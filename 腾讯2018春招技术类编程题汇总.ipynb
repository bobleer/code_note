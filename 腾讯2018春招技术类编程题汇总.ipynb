{
 "cells": [
  {
   "cell_type": "code",
   "execution_count": 24,
   "metadata": {},
   "outputs": [],
   "source": [
    "# 腾讯2018春招技术类编程题汇总 \n",
    "# https://www.nowcoder.com/test/10611931/summary"
   ]
  },
  {
   "cell_type": "code",
   "execution_count": 23,
   "metadata": {},
   "outputs": [
    {
     "name": "stdout",
     "output_type": "stream",
     "text": [
      "323445962 371\n",
      "59999225951\n"
     ]
    }
   ],
   "source": [
    "'''1\n",
    "小Q定义了一种数列称为翻转数列:\n",
    "给定整数n和m, 满足n能被2m整除。对于一串连续递增整数数列1, 2, 3, 4..., 每隔m个符号翻转一次, 最初符号为'-';。\n",
    "例如n = 8, m = 2, 数列就是: -1, -2, +3, +4, -5, -6, +7, +8.\n",
    "而n = 4, m = 1, 数列就是: -1, +2, -3, + 4.\n",
    "小Q现在希望你能帮他算算前n项和为多少。\n",
    "\n",
    "输入描述:\n",
    "输入包括两个整数n和m(2 <= n <= 109, 1 <= m), 并且满足n能被2m整除。\n",
    "\n",
    "输出描述:\n",
    "输出一个整数, 表示前n项和。\n",
    "'''\n",
    "\n",
    "n,m = map(int, input().split()) # 323445962 371\n",
    "print(m*n//2) # print((1+n)*n//2-(1+n-m)*n//2)"
   ]
  },
  {
   "cell_type": "code",
   "execution_count": 27,
   "metadata": {},
   "outputs": [
    {
     "name": "stdout",
     "output_type": "stream",
     "text": [
      "3\n",
      "2 7 4\n",
      "5\n"
     ]
    }
   ],
   "source": [
    "'''2\n",
    "牛牛和羊羊正在玩一个纸牌游戏。这个游戏一共有n张纸牌, 第i张纸牌上写着数字ai。\n",
    "牛牛和羊羊轮流抽牌, 牛牛先抽, 每次抽牌他们可以从纸牌堆中任意选择一张抽出, 直到纸牌被抽完。\n",
    "他们的得分等于他们抽到的纸牌数字总和。\n",
    "现在假设牛牛和羊羊都采用最优策略, 请你计算出游戏结束后牛牛得分减去羊羊得分等于多少。\n",
    "\n",
    "\n",
    "输入描述:\n",
    "输入包括两行。\n",
    "第一行包括一个正整数n(1 <= n <= 105),表示纸牌的数量。\n",
    "第二行包括n个正整数ai(1 <= ai <= 109),表示每张纸牌上的数字。\n",
    "\n",
    "输出描述:\n",
    "输出一个整数, 表示游戏结束后牛牛得分减去羊羊得分等于多少。\n",
    "\n",
    "输入例子1:\n",
    "3\n",
    "2 7 4\n",
    "\n",
    "输出例子1:\n",
    "5\n",
    "'''\n",
    "\n",
    "n = input()\n",
    "m = sorted(list(map(int, input().split())))\n",
    "a = sum(m)\n",
    "n = sum(m[::-2])\n",
    "print(2*n-a)"
   ]
  },
  {
   "cell_type": "code",
   "execution_count": 101,
   "metadata": {},
   "outputs": [
    {
     "name": "stdout",
     "output_type": "stream",
     "text": [
      "100 284\n",
      "96\n"
     ]
    }
   ],
   "source": [
    "'''3\n",
    "小Q的父母要出差N天，走之前给小Q留下了M块巧克力。小Q决定每天吃的巧克力数量不少于前一天吃的一半，但是他又不想在父母回来之前的某一天没有巧克力吃，请问他第一天最多能吃多少块巧克力\n",
    "\n",
    "输入描述:\n",
    "每个输入包含一个测试用例。\n",
    "每个测试用例的第一行包含两个正整数，表示父母出差的天数N(N<=50000)和巧克力的数量M(N<=M<=100000)。\n",
    "\n",
    "输出描述:\n",
    "输出一个数表示小Q第一天最多能吃多少块巧克力。\n",
    "\n",
    "输入例子1:\n",
    "3 7\n",
    "\n",
    "输出例子1:\n",
    "4\n",
    "'''\n",
    "\n",
    "n,m = map(int, input().split())\n",
    "if n == 1:\n",
    "    print(m)\n",
    "    exit()\n",
    "for i in range(m-n+1,1,-1):\n",
    "    t = i\n",
    "    s = 0\n",
    "    r = 0\n",
    "    while t!=1:\n",
    "        s += t\n",
    "        r += 1\n",
    "        t = (t+1)//2\n",
    "    if m-s >= n-r:\n",
    "        print(i)\n",
    "        break"
   ]
  },
  {
   "cell_type": "code",
   "execution_count": 115,
   "metadata": {},
   "outputs": [
    {
     "name": "stdout",
     "output_type": "stream",
     "text": [
      "205\n",
      "1 92 4 92\n",
      "580636981\n"
     ]
    }
   ],
   "source": [
    "'''4\n",
    "小Q有X首长度为A的不同的歌和Y首长度为B的不同的歌，现在小Q想用这些歌组成一个总长度正好为K的歌单，每首歌最多只能在歌单中出现一次，在不考虑歌单内歌曲的先后顺序的情况下，请问有多少种组成歌单的方法。\n",
    "\n",
    "输入描述:\n",
    "每个输入包含一个测试用例。\n",
    "每个测试用例的第一行包含一个整数，表示歌单的总长度K(1<=K<=1000)。\n",
    "接下来的一行包含四个正整数，分别表示歌的第一种长度A(A<=10)和数量X(X<=100)以及歌的第二种长度B(B<=10)和数量Y(Y<=100)。保证A不等于B。\n",
    "\n",
    "输出描述:\n",
    "输出一个整数,表示组成歌单的方法取模。因为答案可能会很大,输出对1000000007取模的结果。\n",
    "\n",
    "输入例子1:\n",
    "5\n",
    "2 3 3 3\n",
    "\n",
    "输出例子1:\n",
    "9\n",
    "'''\n",
    "\n",
    "k = int(input())\n",
    "a,x,b,y = map(int, input().split())\n",
    "  \n",
    "c = [1] + [0] * k  # 第一位初始化为1\n",
    "for i in range(x):\n",
    "    for j in range(k, a-1, -1):\n",
    "        c[j] += c[j-a]\n",
    "          \n",
    "for i in range(y):\n",
    "    for j in range(k, b-1, -b):  # 第二次步长为b\n",
    "        c[j] += c[j-b]\n",
    "print(c[k]%1000000007)"
   ]
  },
  {
   "cell_type": "code",
   "execution_count": 121,
   "metadata": {},
   "outputs": [
    {
     "name": "stdout",
     "output_type": "stream",
     "text": [
      "1 2\n",
      "100 3\n",
      "100 2\n",
      "100 1\n",
      "1 20006\n"
     ]
    }
   ],
   "source": [
    "'''5\n",
    "小Q的公司最近接到m个任务, 第i个任务需要xi的时间去完成, 难度等级为yi。\n",
    "小Q拥有n台机器, 每台机器最长工作时间zi, 机器等级wi。\n",
    "对于一个任务,它只能交由一台机器来完成, 如果安排给它的机器的最长工作时间小于任务需要的时间, 则不能完成,如果完成这个任务将获得200 * xi + 3 * yi收益。\n",
    "\n",
    "对于一台机器,它一天只能完成一个任务, 如果它的机器等级小于安排给它的任务难度等级, 则不能完成。\n",
    "\n",
    "小Q想在今天尽可能的去完成任务, 即完成的任务数量最大。如果有多种安排方案,小Q还想找到收益最大的那个方案。小Q需要你来帮助他计算一下。\n",
    "\n",
    "\n",
    "输入描述:\n",
    "输入包括N + M + 1行,\n",
    "输入的第一行为两个正整数n和m(1 <= n, m <= 100000), 表示机器的数量和任务的数量。\n",
    "接下来n行,每行两个整数zi和wi(0 < zi < 1000, 0 <= wi <= 100), 表示每台机器的最大工作时间和机器等级。\n",
    "接下来的m行,每行两个整数xi和yi(0 < xi < 1000, 0 <= yi<= 100), 表示每个任务需要的完成时间和任务的难度等级。\n",
    "\n",
    "输出描述:\n",
    "输出两个整数, 分别表示最大能完成的任务数量和获取的收益。\n",
    "\n",
    "输入例子1:\n",
    "1 2\n",
    "100 3\n",
    "100 2\n",
    "100 1\n",
    "\n",
    "输出例子1:\n",
    "1 20006\n",
    "'''\n",
    "\n",
    "class node():\n",
    "    def __init__(self,time,level):\n",
    "        self.time = time\n",
    "        self.level = level\n",
    "#读取第一行获取机器数量和任务数量\n",
    "machineNum,jobNum = map(int, input().split())\n",
    "machines = []\n",
    "jobs = []\n",
    "#读取每台机器的最大工作时间和机器等级\n",
    "for i in range(machineNum):\n",
    "    time,level = map(int, input().split())\n",
    "    machine = node(time,level)\n",
    "    machines.append(machine)\n",
    "#读取每个任务需要的完成时间和任务的难度系数\n",
    "for j in range(jobNum):\n",
    "    time,level = map(int, input().split())\n",
    "    job = node(time,level)\n",
    "    jobs.append(job)\n",
    "#根据时间排序\n",
    "machines.sort(key = lambda x:(x.time,x.level),reverse = True)\n",
    "jobs.sort(key = lambda x:(x.time,x.level),reverse = True)\n",
    "#收益\n",
    "profit = 0\n",
    "count = 0\n",
    "level = [0]*105\n",
    "#对job根据时间排序，先完成时间大的收益更多；对符合条件的机器选择最接近的level\n",
    "j = 0\n",
    "for i in range(jobNum):\n",
    "    #在时间条件（机器时间>任务时间）满足的情况下\n",
    "    while j< machineNum and machines[j].time>=jobs[i].time:\n",
    "        level[machines[j].level] += 1\n",
    "        j += 1\n",
    "    for k in range(jobs[i].level,101):\n",
    "        if level[k]:\n",
    "            count += 1\n",
    "            level[k] -= 1\n",
    "            profit += 200 * jobs[i].time + 3 * jobs[i].level\n",
    "            break\n",
    "print(count,profit)"
   ]
  },
  {
   "cell_type": "code",
   "execution_count": 122,
   "metadata": {},
   "outputs": [
    {
     "name": "stdout",
     "output_type": "stream",
     "text": [
      "4 4\n",
      "YXXB\n",
      "XYGX\n",
      "XBYY\n",
      "BXXY\n",
      "3\n"
     ]
    }
   ],
   "source": [
    "'''6\n",
    "画家小Q又开始他的艺术创作。小Q拿出了一块有NxM像素格的画板, 画板初始状态是空白的,用'X'表示。\n",
    "小Q有他独特的绘画技巧,每次小Q会选择一条斜线, 如果斜线的方向形如'/',即斜率为1,小Q会选择这条斜线中的一段格子,都涂画为蓝色,用'B'表示;如果对角线的方向形如'\\',即斜率为-1,小Q会选择这条斜线中的一段格子,都涂画为黄色,用'Y'表示。\n",
    "如果一个格子既被蓝色涂画过又被黄色涂画过,那么这个格子就会变成绿色,用'G'表示。\n",
    "小Q已经有想画出的作品的样子, 请你帮他计算一下他最少需要多少次操作完成这幅画。\n",
    "\n",
    "输入描述:\n",
    "每个输入包含一个测试用例。\n",
    "每个测试用例的第一行包含两个正整数N和M(1 <= N, M <= 50), 表示画板的长宽。\n",
    "接下来的N行包含N个长度为M的字符串, 其中包含字符'B','Y','G','X',分别表示蓝色,黄色,绿色,空白。整个表示小Q要完成的作品。\n",
    "\n",
    "输出描述:\n",
    "输出一个正整数, 表示小Q最少需要多少次操作完成绘画。\n",
    "\n",
    "输入例子1:\n",
    "4 4\n",
    "YXXB\n",
    "XYGX\n",
    "XBYY\n",
    "BXXY\n",
    "\n",
    "输出例子1:\n",
    "3\n",
    "'''\n",
    "\n",
    "n,m = map(int, input().split())\n",
    "graph = []\n",
    "for i in range(n):\n",
    "    color = input()\n",
    "    graph.append(color)\n",
    "visited = [[0] * m for _ in range(n)]\n",
    "def colorY(i,j,visited,graph):\n",
    "    while i < n and j < m:\n",
    "        if graph[i][j] == 'G' or graph[i][j] == 'Y':\n",
    "            visited[i][j] += 1\n",
    "            i += 1\n",
    "            j += 1\n",
    "        else:\n",
    "            break\n",
    "def colorB(i,j,visited,graph):\n",
    "    while i < n and j >= 0:\n",
    "        if graph[i][j] == 'G' or graph[i][j] == 'B':\n",
    "            visited[i][j] += 2\n",
    "            i += 1\n",
    "            j -= 1\n",
    "        else:\n",
    "            break\n",
    "res = 0\n",
    "for i in range(n):\n",
    "    for j in range(m):\n",
    "        if graph[i][j] == 'Y' and visited[i][j] == 0:\n",
    "            colorY(i,j,visited,graph)\n",
    "            res += 1\n",
    "        if graph[i][j] == 'B' and visited[i][j] == 0:\n",
    "            colorB(i,j,visited,graph)\n",
    "            res += 1\n",
    "        if graph[i][j] == 'G' and visited[i][j] == 0:\n",
    "            colorY(i, j, visited, graph)\n",
    "            colorB(i, j, visited, graph)\n",
    "            res += 2\n",
    "        if graph[i][j] == 'G' and visited[i][j] == 1:\n",
    "            colorB(i, j, visited, graph)\n",
    "            res += 1\n",
    "        if graph[i][j] == 'G' and visited[i][j] == 2:\n",
    "            colorY(i, j, visited, graph)\n",
    "            res += 1\n",
    "print(res)"
   ]
  }
 ],
 "metadata": {
  "kernelspec": {
   "display_name": "Python 3",
   "language": "python",
   "name": "python3"
  },
  "language_info": {
   "codemirror_mode": {
    "name": "ipython",
    "version": 3
   },
   "file_extension": ".py",
   "mimetype": "text/x-python",
   "name": "python",
   "nbconvert_exporter": "python",
   "pygments_lexer": "ipython3",
   "version": "3.7.4"
  },
  "toc": {
   "base_numbering": 1,
   "nav_menu": {},
   "number_sections": true,
   "sideBar": true,
   "skip_h1_title": false,
   "title_cell": "Table of Contents",
   "title_sidebar": "Contents",
   "toc_cell": false,
   "toc_position": {},
   "toc_section_display": true,
   "toc_window_display": false
  },
  "varInspector": {
   "cols": {
    "lenName": 16,
    "lenType": 16,
    "lenVar": 40
   },
   "kernels_config": {
    "python": {
     "delete_cmd_postfix": "",
     "delete_cmd_prefix": "del ",
     "library": "var_list.py",
     "varRefreshCmd": "print(var_dic_list())"
    },
    "r": {
     "delete_cmd_postfix": ") ",
     "delete_cmd_prefix": "rm(",
     "library": "var_list.r",
     "varRefreshCmd": "cat(var_dic_list()) "
    }
   },
   "types_to_exclude": [
    "module",
    "function",
    "builtin_function_or_method",
    "instance",
    "_Feature"
   ],
   "window_display": false
  }
 },
 "nbformat": 4,
 "nbformat_minor": 2
}
