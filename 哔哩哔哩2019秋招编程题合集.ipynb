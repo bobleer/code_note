{
 "cells": [
  {
   "cell_type": "code",
   "execution_count": null,
   "metadata": {},
   "outputs": [],
   "source": [
    "# 哔哩哔哩 2019秋招编程题合集\n",
    "# https://www.nowcoder.com/test/16519291/summary"
   ]
  },
  {
   "cell_type": "code",
   "execution_count": 15,
   "metadata": {},
   "outputs": [
    {
     "name": "stdout",
     "output_type": "stream",
     "text": [
      "700\n",
      "232333323\n"
     ]
    }
   ],
   "source": [
    "'''1\n",
    "扭蛋机2号：如果塞x（x范围为>=0正整数）个扭蛋进去，然后就可以扭到2x+1个\n",
    "扭蛋机3号：如果塞x（x范围为>=0正整数）个扭蛋进去，然后就可以扭到2x+2个\n",
    "22娘和33娘手中没有扭蛋，需要你帮她们设计一个方案，两人“轮流扭”（谁先开始不限，扭到的蛋可以交给对方使用），用“最少”的次数，使她们能够最后恰好扭到N个交给小电视君。\n",
    "'''\n",
    "n = int(input())\n",
    "o = []\n",
    "while n:\n",
    "    o.append('3' if n%2 == 0 else '2')\n",
    "    n = (n-1)//2\n",
    "print(''.join(o[::-1]))"
   ]
  },
  {
   "cell_type": "code",
   "execution_count": 30,
   "metadata": {},
   "outputs": [
    {
     "name": "stdout",
     "output_type": "stream",
     "text": [
      "7 www.bilibili.com/av170001\n",
      "[7]\n",
      "\n"
     ]
    }
   ],
   "source": [
    "'''2\n",
    "每个输入都有若干行，每行的第一个数字为`k`，表示求第`k`个仅出现一次的字。然后间隔一个半角空格，之后直到行尾的所有字符表示大小姐滚出的字符串`S`。\n",
    "输出的每一行对应输入的每一行的答案，如果无解，输出字符串`Myon~`，为了方便评测，如果答案存在且为c，请输出[c]\n",
    "'''\n",
    "try:\n",
    "    while 1:\n",
    "        s = input().strip().split(' ',1)\n",
    "        n,l,o,r,f = int(s[0]),s[1],[],[],1\n",
    "        for i in l:\n",
    "            if i not in r and l.count(i)==1:\n",
    "                o.append(i)\n",
    "                if len(o)==n:\n",
    "                    print('['+i+']')\n",
    "                    f = 0\n",
    "                    break\n",
    "            else: r.append(i)\n",
    "        if f: print(\"Myon~\")\n",
    "except:\n",
    "    pass"
   ]
  },
  {
   "cell_type": "code",
   "execution_count": 3,
   "metadata": {},
   "outputs": [
    {
     "name": "stdout",
     "output_type": "stream",
     "text": [
      "1+2+3\n",
      "6\n",
      "455-5\n",
      "450\n",
      "END\n"
     ]
    }
   ],
   "source": [
    "'''3\n",
    "给定一个合法的表达式字符串，其中只包含非负整数、加法、减法以及乘法符号（不会有括号），例如7+3*4*5+2+4-3-1，请写程序计算该表达式的结果并输出\n",
    "输入有多行，每行是一个表达式，输入以END作为结束\n",
    "'''\n",
    "while 1:\n",
    "    a = input()\n",
    "    if a == \"END\": break\n",
    "    else: print(eval(a))"
   ]
  },
  {
   "cell_type": "code",
   "execution_count": 101,
   "metadata": {},
   "outputs": [
    {
     "name": "stdout",
     "output_type": "stream",
     "text": [
      "7\n",
      "5\n",
      "6\n",
      "1,0\n",
      "3,1\n",
      "4,1\n",
      "5,3\n",
      "6,1\n",
      "6,5\n",
      "3\n"
     ]
    }
   ],
   "source": [
    "'''4\n",
    "小A参加了一个n人的活动，每个人都有一个唯一编号i(i>=0 & i<n)，其中m对相互认识，在活动中两个人可以通过互相都认识的一个人介绍认识。现在问活动结束后，小A最多会认识多少人？\n",
    "'''\n",
    "n,a,m = map(int, (input(),input(),input()))\n",
    "c = dict([i,[]] for i in range(n))\n",
    " \n",
    "for i in range(m):\n",
    "    x,y = map(int,input().split(','))\n",
    "    c[x].append(y)\n",
    "    c[y].append(x)\n",
    "    \n",
    "o = set(c[a])\n",
    "p = set()\n",
    "def f(x):\n",
    "    if x not in p:\n",
    "        t = len(p)\n",
    "        p.add(x)\n",
    "        if len(p) != t:\n",
    "            for i in c[x]:\n",
    "                f(i)\n",
    "f(a)\n",
    "print(len(p)-1-len(o))"
   ]
  },
  {
   "cell_type": "code",
   "execution_count": 146,
   "metadata": {},
   "outputs": [
    {
     "ename": "IndexError",
     "evalue": "list index out of range",
     "output_type": "error",
     "traceback": [
      "\u001b[0;31m---------------------------------------------------------------------------\u001b[0m",
      "\u001b[0;31mIndexError\u001b[0m                                Traceback (most recent call last)",
      "\u001b[0;32m<ipython-input-146-db718d9153c3>\u001b[0m in \u001b[0;36m<module>\u001b[0;34m\u001b[0m\n\u001b[1;32m     20\u001b[0m \u001b[0;34m\u001b[0m\u001b[0m\n\u001b[1;32m     21\u001b[0m \u001b[0mlines\u001b[0m \u001b[0;34m=\u001b[0m \u001b[0msys\u001b[0m\u001b[0;34m.\u001b[0m\u001b[0mstdin\u001b[0m\u001b[0;34m.\u001b[0m\u001b[0mreadlines\u001b[0m\u001b[0;34m(\u001b[0m\u001b[0;34m)\u001b[0m\u001b[0;34m\u001b[0m\u001b[0;34m\u001b[0m\u001b[0m\n\u001b[0;32m---> 22\u001b[0;31m \u001b[0mn\u001b[0m \u001b[0;34m=\u001b[0m \u001b[0mint\u001b[0m\u001b[0;34m(\u001b[0m\u001b[0mlines\u001b[0m\u001b[0;34m[\u001b[0m\u001b[0;36m0\u001b[0m\u001b[0;34m]\u001b[0m\u001b[0;34m.\u001b[0m\u001b[0mstrip\u001b[0m\u001b[0;34m(\u001b[0m\u001b[0;34m)\u001b[0m\u001b[0;34m)\u001b[0m\u001b[0;34m\u001b[0m\u001b[0;34m\u001b[0m\u001b[0m\n\u001b[0m\u001b[1;32m     23\u001b[0m \u001b[0mA\u001b[0m \u001b[0;34m=\u001b[0m \u001b[0mint\u001b[0m\u001b[0;34m(\u001b[0m\u001b[0mlines\u001b[0m\u001b[0;34m[\u001b[0m\u001b[0;36m1\u001b[0m\u001b[0;34m]\u001b[0m\u001b[0;34m.\u001b[0m\u001b[0mstrip\u001b[0m\u001b[0;34m(\u001b[0m\u001b[0;34m)\u001b[0m\u001b[0;34m)\u001b[0m\u001b[0;34m\u001b[0m\u001b[0;34m\u001b[0m\u001b[0m\n\u001b[1;32m     24\u001b[0m \u001b[0mus\u001b[0m \u001b[0;34m=\u001b[0m \u001b[0mUnionSet\u001b[0m\u001b[0;34m(\u001b[0m\u001b[0mn\u001b[0m\u001b[0;34m)\u001b[0m\u001b[0;34m\u001b[0m\u001b[0;34m\u001b[0m\u001b[0m\n",
      "\u001b[0;31mIndexError\u001b[0m: list index out of range"
     ]
    }
   ],
   "source": [
    "# AC\n",
    "import sys\n",
    "class UnionSet:\n",
    "    def __init__(self, n):\n",
    "        self.parents = [i for i in range(n)]\n",
    "        self.rank = [1]*n\n",
    "    def find(self, x):\n",
    "        if self.parents[x] != x:\n",
    "            self.parents[x] = self.find(self.parents[x])\n",
    "        return self.parents[x]\n",
    "    def union(self, x, y):\n",
    "        px, py = self.find(x), self.find(y)\n",
    "        if px != py:\n",
    "            if self.rank[px] > self.rank[py]:\n",
    "                self.parents[py] = px\n",
    "                self.rank[px] += self.rank[py]\n",
    "            else:\n",
    "                self.parents[px] = py\n",
    "                self.rank[py] += self.rank[px]\n",
    "\n",
    "lines = sys.stdin.readlines()\n",
    "n = int(lines[0].strip())\n",
    "A = int(lines[1].strip())\n",
    "us = UnionSet(n)\n",
    "seen = set()\n",
    "for line in lines[3:]:\n",
    "    i, j = list(map(int, line.split(',')))\n",
    "    if i == A: seen.add(j)\n",
    "    elif j == A: seen.add(i)\n",
    "    us.union(i, j)\n",
    "ans = 0\n",
    "root = us.find(A)\n",
    "for i in range(n):\n",
    "    if us.find(i) == root: ans += 1\n",
    "print(ans - 1 - len(seen))"
   ]
  },
  {
   "cell_type": "code",
   "execution_count": 132,
   "metadata": {},
   "outputs": [
    {
     "name": "stdout",
     "output_type": "stream",
     "text": [
      "5\n",
      "1 10 100 95 101\n",
      "4\n",
      "1 3\n",
      "2 4\n",
      "2 5\n",
      "3 5\n",
      "3\n"
     ]
    }
   ],
   "source": [
    "'''5\n",
    "金闪闪死后，红A拿到了王之财宝，里面有n个武器，长度各不相同。红A发现，拿其中三件武器首尾相接，组成一个三角形，进行召唤仪式，就可以召唤出一个山寨金闪闪。（例如，三件武器长度为10、15、20，可以召唤成功。若长度为10、11、30，首尾相接无法组成三角形，召唤失败。）红A于是开了一个金闪闪专卖店。他把王之财宝排成一排，每个客人会随机抽取到一个区间[l,r],客人可以选取区间里的三件武器进行召唤（客人都很聪慧，如果能找出来合适的武器，一定不会放过）。召唤结束后，客人要把武器原样放回去。m个客人光顾以后，红A害怕过多的金闪闪愉悦太多男人，于是找到了你，希望你帮他统计出有多少山寨金闪闪被召唤出来。\n",
    "第一行武器数量:n <= 1*10^7\n",
    "第二行空格分隔的n个int，表示每件武器的长度。\n",
    "第三行顾客数量：m <= 1*10^6\n",
    "后面m行，每行两个int l，r，表示每个客人被分配到的区间。（l<r）\n",
    "'''\n",
    "n = int(input())\n",
    "w = list(map(int, input().split()))\n",
    "o = 0\n",
    "\n",
    "for _ in range(int(input())):\n",
    "    x,y = map(int, input().split())\n",
    "    if(y-x+1>=47): o+=1\n",
    "    else:\n",
    "        z = sorted(w[x-1:y])\n",
    "        for i in range(0,len(z)-2):\n",
    "            if z[i]+z[i+1]>z[i+2]:\n",
    "                o+=1\n",
    "                break\n",
    "print(o)"
   ]
  },
  {
   "cell_type": "code",
   "execution_count": 2,
   "metadata": {},
   "outputs": [
    {
     "name": "stdout",
     "output_type": "stream",
     "text": [
      "0.1.2.3 0.0.9.8\n",
      "1\n"
     ]
    }
   ],
   "source": [
    "'''6\n",
    "如果version1 > version2 返回1，如果 version1 < version2 返回-1，不然返回0.\n",
    "输入的version字符串非空，只包含数字和字符.。.字符不代表通常意义上的小数点，只是用来区分数字序列。例如字符串2.5并不代表二点五，只是代表版本是第一级版本号是2，第二级版本号是5.\n",
    "'''\n",
    "x,y = map(lambda x:list(map(int, x.split('.'))), input().split())\n",
    "if x > y: print(1)\n",
    "elif x < y: print(-1)\n",
    "else: print(0)"
   ]
  },
  {
   "cell_type": "code",
   "execution_count": 16,
   "metadata": {},
   "outputs": [
    {
     "name": "stdout",
     "output_type": "stream",
     "text": [
      "3\n",
      "5,9,6\n",
      "2,7,7\n",
      "2,8,4\n",
      "[[5, 14, 20], [2, 7, 7], [2, 8, 4]]\n",
      "[[5, 14, 20], [7, 14, 21], [2, 8, 4]]\n",
      "[[5, 14, 20], [7, 14, 21], [9, 17, 21]]\n",
      "21\n"
     ]
    }
   ],
   "source": [
    "'''7 动态规划\n",
    "猛兽侠中精灵鼠在利剑飞船的追逐下逃到一个n*n的建筑群中，精灵鼠从（0,0）的位置进入建筑群，建筑群的出口位置为（n-1,n-1），建筑群的每个位置都有阻碍，每个位置上都会相当于给了精灵鼠一个固定值减速，因为精灵鼠正在逃命所以不能回头只能向前或者向下逃跑，现在问精灵鼠最少在减速多少的情况下逃出迷宫？\n",
    "第一行迷宫的大小: n >=2 & n <= 10000；\n",
    "第2到n+1行，每行输入为以','分割的该位置的减速,减速f >=1 & f < 10。\n",
    "精灵鼠从入口到出口的最少减少速度？\n",
    "'''\n",
    "n = int(input())\n",
    "r = [list(map(int, input().split(','))) for i in range(n)]\n",
    "\n",
    "for i in range(n):\n",
    "    for j in range(n):\n",
    "        if i==0 and j>=1: r[i][j]+=r[i][j-1]\n",
    "        if j==0 and i>=1: r[i][j]+=r[i-1][j]\n",
    "        if i>=1 and j>=1: r[i][j]+=min(r[i-1][j],r[i][j-1])\n",
    "print(r[n-1][n-1])"
   ]
  },
  {
   "cell_type": "code",
   "execution_count": 44,
   "metadata": {},
   "outputs": [
    {
     "name": "stdout",
     "output_type": "stream",
     "text": [
      "3 3\n",
      "1 2 3\n",
      "4 5 6\n",
      "7 8 9\n",
      "1,2,3,6,9,8,7,4,5\n",
      "\n"
     ]
    }
   ],
   "source": [
    "'''8\n",
    "给定一个数字矩阵，请设计一个算法从左上角开始顺时针打印矩阵元素\n",
    "输入第一行是两个数字，分别代表行数M和列数N；接下来是M行，每行N个数字，表示这个矩阵的所有元素；当读到M=-1，N=-1时，输入终止。\n",
    "请按逗号分割顺时针打印矩阵元素（注意最后一个元素末尾不要有逗号！例如输出“1，2，3”，而不是“1，2，\n",
    "3，”），每个矩阵输出完成后记得换行\n",
    "'''\n",
    "while 1:\n",
    "    m,n = map(int,input().split())\n",
    "    if m == -1: break\n",
    "    p = []\n",
    "    o = [input().split() for _ in range(m)]\n",
    "    while 1:\n",
    "        try:\n",
    "            p.extend(o.pop(0))\n",
    "            for i in range(len(o)-1):\n",
    "                p.append(o[i].pop())\n",
    "            p.extend(o.pop(-1)[::-1])\n",
    "            for i in range(-len(o)+1,0):\n",
    "                p.append(o[-i].pop(0))\n",
    "        except: break\n",
    "    print(','.join(p))"
   ]
  },
  {
   "cell_type": "code",
   "execution_count": 109,
   "metadata": {},
   "outputs": [
    {
     "name": "stdout",
     "output_type": "stream",
     "text": [
      "顺时针： [[7, 4, 1], [8, 5, 2], [9, 6, 3]]\n",
      "逆时针： [[3, 6, 9], [2, 5, 8], [1, 4, 7]]\n",
      "左右翻： [[3, 2, 1], [6, 5, 4], [9, 8, 7]]\n",
      "上下翻： [[7, 8, 9], [4, 5, 6], [1, 2, 3]]\n"
     ]
    }
   ],
   "source": [
    "o = [[1,2,3],[4,5,6],[7,8,9]]\n",
    "# 列表顺时针旋转：\n",
    "print(\"顺时针：\",list(map(list,zip(*o[::-1]))))\n",
    "# 列表逆时针旋转：\n",
    "print(\"逆时针：\",list(map(list,zip(*o)))[::-1])\n",
    "# 列表左右翻转：\n",
    "print(\"左右翻：\",[i[::-1] for i in o])\n",
    "# 列表上下翻转：\n",
    "print(\"上下翻：\",o[::-1])"
   ]
  },
  {
   "cell_type": "code",
   "execution_count": 1,
   "metadata": {},
   "outputs": [
    {
     "name": "stdout",
     "output_type": "stream",
     "text": [
      "192.168.128.1\n",
      "1\n"
     ]
    }
   ],
   "source": [
    "'''9\n",
    "对于每个测试实例输出整数1或0，1代表True，即输入属于内网IP，0代表False，即输入不属于内网IP或不是IP字符串。\n",
    "'''\n",
    "if input().split('.')[0] in ['127','192','10','172']: print(1)\n",
    "else: print(0)"
   ]
  },
  {
   "cell_type": "code",
   "execution_count": 18,
   "metadata": {},
   "outputs": [
    {
     "name": "stdout",
     "output_type": "stream",
     "text": [
      "1 2 3 4 5,10\n",
      "True\n"
     ]
    }
   ],
   "source": [
    "'''10 哈希表，降低时间复杂度\n",
    "给定一个整数数组,判断其中是否有3个数和为N\n",
    "'''\n",
    "a, n = input().split(',')\n",
    "a = sorted(list(map(int, a.split())))\n",
    "n = int(n)\n",
    "length = len(a)\n",
    "\n",
    "if length < 3:\n",
    "    print(False)\n",
    "    exit()\n",
    "if sum(a[-3:]) < n:\n",
    "    print(False)\n",
    "    exit()\n",
    "\n",
    "first = 0\n",
    "while first < length - 2:\n",
    "    second = first + 1\n",
    "    third = length - 1\n",
    "    if a[first]+a[second]+a[third] > n:\n",
    "        print(False)\n",
    "        exit()\n",
    "    while second < third:\n",
    "        if a[first]+a[second]+a[third] == n:\n",
    "            print(True)\n",
    "            exit()\n",
    "        elif a[first]+a[second]+a[third] < n:\n",
    "            second += 1\n",
    "        else:\n",
    "            third -= 1\n",
    "    first += 1"
   ]
  },
  {
   "cell_type": "code",
   "execution_count": 42,
   "metadata": {},
   "outputs": [
    {
     "name": "stdout",
     "output_type": "stream",
     "text": [
      "5 8\n",
      "1 3 4 5 9\n",
      "[3]\n"
     ]
    }
   ],
   "source": [
    "'''12\n",
    "打败魔人布欧以后，孙悟空收了n个徒弟，每个徒弟战斗力各不相同。他教导所有的徒弟和体术，合体后战斗力为原战斗力相乘。任何两个徒弟都可以合体，所以一共有n*(n-1)/2种合体徒弟。有一天，他想考验一下孙悟天战斗力如何，希望在所有n*(n-1)/2种合体徒弟中选择战斗力第k高的，与孙悟天对战。可是孙悟空徒弟太多了，他已然懵逼，于是找到了你，请你帮他找到对的人。\n",
    "第一行两个int。徒弟数量：n <= 1*10^6；战斗力排名:k <= n*(n-1)/2\n",
    "第二行空格分隔n个int，表示每个徒弟的战斗力。\n",
    "'''\n",
    "n,k = map(int,input().split())\n",
    "t = list(map(int,input().split()))\n",
    "print(sorted([t[i]*t[j] for i in range(n-1) for j in range(i+1,n)])[-k])"
   ]
  },
  {
   "cell_type": "code",
   "execution_count": 103,
   "metadata": {},
   "outputs": [
    {
     "name": "stdout",
     "output_type": "stream",
     "text": [
      "1,2,3,4,5,6,7,8,9\n",
      "1,9,2,8,3,7,4,6,5\n"
     ]
    }
   ],
   "source": [
    "'''13\n",
    "对于一个链表 L: L0→L1→…→Ln-1→Ln,\n",
    "将其翻转成 L0→Ln→L1→Ln-1→L2→Ln-2→…\n",
    "输入是一串数字，请将其转换成单链表格式之后，再进行操作\n",
    "'''\n",
    "s = input().split(',')\n",
    "t = len(s)\n",
    "r = t//2\n",
    "o = []\n",
    "\n",
    "def f(a): \n",
    "    x,y = s[:r],s[r+a:][::-1]\n",
    "    for i in range(r):\n",
    "        o.extend([x[i],y[i]])\n",
    "    if a: o.append(s[r])\n",
    "if t%2 == 1: f(1)\n",
    "else: f(0)\n",
    "\n",
    "print(','.join(o))"
   ]
  },
  {
   "cell_type": "code",
   "execution_count": 119,
   "metadata": {},
   "outputs": [
    {
     "name": "stdout",
     "output_type": "stream",
     "text": [
      "1,2,3,4,5,6,7,8,9\n",
      "1,9,2,8,3,7,4,6,5\n"
     ]
    }
   ],
   "source": [
    "# 解法2\n",
    "a = input().split(',')\n",
    "c = [a.pop(-1) if i%2==1 else a.pop(0) for i in range(len(a))]\n",
    "print(','.join(c))"
   ]
  },
  {
   "cell_type": "code",
   "execution_count": 147,
   "metadata": {},
   "outputs": [
    {
     "name": "stdout",
     "output_type": "stream",
     "text": [
      "7\n",
      "1 2 3 4 5 6 7\n",
      "7\n",
      "1 6\n",
      "2 5\n",
      "3 4\n"
     ]
    }
   ],
   "source": [
    "'''14\n",
    "高贵的蕾米莉亚大小姐每天需要饮用定量 B 型血的红茶以保持威严，并且要分两杯在不同时段饮用。\n",
    "女仆长十六夜咲夜每天可以制作很多杯不同剂量 B 型血的红茶供蕾米莉亚大小姐饮用。\n",
    "某日，你和天才妖精琪露诺偷偷潜入红魔馆被咲夜抓住，要求在今日份的红茶中挑出所有满足大小姐要求的茶杯，否则……\n",
    "\n",
    "每个样例有三行输入，第一行输入表示茶杯个数，第二行输入表示每份茶杯里的 B 型血剂量，第三行表示大小姐今天的定量\n",
    "对每一个样例，输出所有可能的搭配方案，如果有多种方案，请按每个方案的第一杯 B 型血剂量的大小升序排列。\n",
    "如果无法找到任何一种满足大小姐的方案，输出\"NO\"(不包括引号)并换行。\n",
    "'''\n",
    "numCup = int(input())\n",
    "doseB = sorted(list(map(int, input().split())))\n",
    "doseNeed = int(input())\n",
    "\n",
    "res_all = []\n",
    "start = 0\n",
    "end = numCup-1\n",
    "\n",
    "while start < end:\n",
    "    a = doseB[start]\n",
    "    b = doseB[end]\n",
    "    if a+b == doseNeed:\n",
    "        res_all.append([a,b])  \n",
    "    if a+b > doseNeed:\n",
    "        end -= 1\n",
    "    else:\n",
    "        start +=1\n",
    "        \n",
    "if len(res_all) == 0:\n",
    "    print('NO')\n",
    "else:\n",
    "    for x,y in res_all:\n",
    "        print(x,y)"
   ]
  }
 ],
 "metadata": {
  "kernelspec": {
   "display_name": "Python 3",
   "language": "python",
   "name": "python3"
  },
  "language_info": {
   "codemirror_mode": {
    "name": "ipython",
    "version": 3
   },
   "file_extension": ".py",
   "mimetype": "text/x-python",
   "name": "python",
   "nbconvert_exporter": "python",
   "pygments_lexer": "ipython3",
   "version": "3.7.4"
  },
  "toc": {
   "base_numbering": 1,
   "nav_menu": {},
   "number_sections": true,
   "sideBar": true,
   "skip_h1_title": false,
   "title_cell": "Table of Contents",
   "title_sidebar": "Contents",
   "toc_cell": false,
   "toc_position": {},
   "toc_section_display": true,
   "toc_window_display": false
  },
  "varInspector": {
   "cols": {
    "lenName": 16,
    "lenType": 16,
    "lenVar": 40
   },
   "kernels_config": {
    "python": {
     "delete_cmd_postfix": "",
     "delete_cmd_prefix": "del ",
     "library": "var_list.py",
     "varRefreshCmd": "print(var_dic_list())"
    },
    "r": {
     "delete_cmd_postfix": ") ",
     "delete_cmd_prefix": "rm(",
     "library": "var_list.r",
     "varRefreshCmd": "cat(var_dic_list()) "
    }
   },
   "types_to_exclude": [
    "module",
    "function",
    "builtin_function_or_method",
    "instance",
    "_Feature"
   ],
   "window_display": false
  }
 },
 "nbformat": 4,
 "nbformat_minor": 2
}
