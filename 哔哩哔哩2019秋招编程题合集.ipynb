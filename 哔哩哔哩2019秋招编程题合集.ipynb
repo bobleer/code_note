{
 "cells": [
  {
   "cell_type": "code",
   "execution_count": null,
   "metadata": {},
   "outputs": [],
   "source": [
    "# 哔哩哔哩 2019秋招编程题合集"
   ]
  },
  {
   "cell_type": "code",
   "execution_count": 15,
   "metadata": {},
   "outputs": [
    {
     "name": "stdout",
     "output_type": "stream",
     "text": [
      "700\n",
      "232333323\n"
     ]
    }
   ],
   "source": [
    "'''1\n",
    "扭蛋机2号：如果塞x（x范围为>=0正整数）个扭蛋进去，然后就可以扭到2x+1个\n",
    "扭蛋机3号：如果塞x（x范围为>=0正整数）个扭蛋进去，然后就可以扭到2x+2个\n",
    "22娘和33娘手中没有扭蛋，需要你帮她们设计一个方案，两人“轮流扭”（谁先开始不限，扭到的蛋可以交给对方使用），用“最少”的次数，使她们能够最后恰好扭到N个交给小电视君。\n",
    "'''\n",
    "n = int(input())\n",
    "o = []\n",
    "while n:\n",
    "    o.append('3' if n%2 == 0 else '2')\n",
    "    n = (n-1)//2\n",
    "print(''.join(o[::-1]))"
   ]
  },
  {
   "cell_type": "code",
   "execution_count": 30,
   "metadata": {},
   "outputs": [
    {
     "name": "stdout",
     "output_type": "stream",
     "text": [
      "7 www.bilibili.com/av170001\n",
      "[7]\n",
      "\n"
     ]
    }
   ],
   "source": [
    "'''2\n",
    "每个输入都有若干行，每行的第一个数字为`k`，表示求第`k`个仅出现一次的字。然后间隔一个半角空格，之后直到行尾的所有字符表示大小姐滚出的字符串`S`。\n",
    "输出的每一行对应输入的每一行的答案，如果无解，输出字符串`Myon~`，为了方便评测，如果答案存在且为c，请输出[c]\n",
    "'''\n",
    "try:\n",
    "    while 1:\n",
    "        s = input().strip().split(' ',1)\n",
    "        n,l,o,r,f = int(s[0]),s[1],[],[],1\n",
    "        for i in l:\n",
    "            if i not in r and l.count(i)==1:\n",
    "                o.append(i)\n",
    "                if len(o)==n:\n",
    "                    print('['+i+']')\n",
    "                    f = 0\n",
    "                    break\n",
    "            else: r.append(i)\n",
    "        if f: print(\"Myon~\")\n",
    "except:\n",
    "    pass"
   ]
  },
  {
   "cell_type": "code",
   "execution_count": 3,
   "metadata": {},
   "outputs": [
    {
     "name": "stdout",
     "output_type": "stream",
     "text": [
      "1+2+3\n",
      "6\n",
      "455-5\n",
      "450\n",
      "END\n"
     ]
    }
   ],
   "source": [
    "'''3\n",
    "给定一个合法的表达式字符串，其中只包含非负整数、加法、减法以及乘法符号（不会有括号），例如7+3*4*5+2+4-3-1，请写程序计算该表达式的结果并输出\n",
    "输入有多行，每行是一个表达式，输入以END作为结束\n",
    "'''\n",
    "while 1:\n",
    "    a = input()\n",
    "    if a == \"END\": break\n",
    "    else: print(eval(a))"
   ]
  },
  {
   "cell_type": "code",
   "execution_count": 101,
   "metadata": {},
   "outputs": [
    {
     "name": "stdout",
     "output_type": "stream",
     "text": [
      "7\n",
      "5\n",
      "6\n",
      "1,0\n",
      "3,1\n",
      "4,1\n",
      "5,3\n",
      "6,1\n",
      "6,5\n",
      "3\n"
     ]
    }
   ],
   "source": [
    "'''4\n",
    "小A参加了一个n人的活动，每个人都有一个唯一编号i(i>=0 & i<n)，其中m对相互认识，在活动中两个人可以通过互相都认识的一个人介绍认识。现在问活动结束后，小A最多会认识多少人？\n",
    "'''\n",
    "n,a,m = map(int, (input(),input(),input()))\n",
    "c = dict([i,[]] for i in range(n))\n",
    " \n",
    "for i in range(m):\n",
    "    x,y = map(int,input().split(','))\n",
    "    c[x].append(y)\n",
    "    c[y].append(x)\n",
    "    \n",
    "o = set(c[a])\n",
    "p = set()\n",
    "def f(x):\n",
    "    if x not in p:\n",
    "        t = len(p)\n",
    "        p.add(x)\n",
    "        if len(p) != t:\n",
    "            for i in c[x]:\n",
    "                f(i)\n",
    "f(a)\n",
    "print(len(p)-1-len(o))"
   ]
  },
  {
   "cell_type": "code",
   "execution_count": 132,
   "metadata": {},
   "outputs": [
    {
     "name": "stdout",
     "output_type": "stream",
     "text": [
      "5\n",
      "1 10 100 95 101\n",
      "4\n",
      "1 3\n",
      "2 4\n",
      "2 5\n",
      "3 5\n",
      "3\n"
     ]
    }
   ],
   "source": [
    "'''5\n",
    "金闪闪死后，红A拿到了王之财宝，里面有n个武器，长度各不相同。红A发现，拿其中三件武器首尾相接，组成一个三角形，进行召唤仪式，就可以召唤出一个山寨金闪闪。（例如，三件武器长度为10、15、20，可以召唤成功。若长度为10、11、30，首尾相接无法组成三角形，召唤失败。）红A于是开了一个金闪闪专卖店。他把王之财宝排成一排，每个客人会随机抽取到一个区间[l,r],客人可以选取区间里的三件武器进行召唤（客人都很聪慧，如果能找出来合适的武器，一定不会放过）。召唤结束后，客人要把武器原样放回去。m个客人光顾以后，红A害怕过多的金闪闪愉悦太多男人，于是找到了你，希望你帮他统计出有多少山寨金闪闪被召唤出来。\n",
    "第一行武器数量:n <= 1*10^7\n",
    "第二行空格分隔的n个int，表示每件武器的长度。\n",
    "第三行顾客数量：m <= 1*10^6\n",
    "后面m行，每行两个int l，r，表示每个客人被分配到的区间。（l<r）\n",
    "'''\n",
    "n = int(input())\n",
    "w = list(map(int, input().split()))\n",
    "o = 0\n",
    "\n",
    "for _ in range(int(input())):\n",
    "    x,y = map(int, input().split())\n",
    "    if(y-x+1>=47): o+=1\n",
    "    else:\n",
    "        z = sorted(w[x-1:y])\n",
    "        for i in range(0,len(z)-2):\n",
    "            if z[i]+z[i+1]>z[i+2]:\n",
    "                o+=1\n",
    "                break\n",
    "print(o)"
   ]
  },
  {
   "cell_type": "code",
   "execution_count": 2,
   "metadata": {},
   "outputs": [
    {
     "name": "stdout",
     "output_type": "stream",
     "text": [
      "0.1.2.3 0.0.9.8\n",
      "1\n"
     ]
    }
   ],
   "source": [
    "'''6\n",
    "如果version1 > version2 返回1，如果 version1 < version2 返回-1，不然返回0.\n",
    "输入的version字符串非空，只包含数字和字符.。.字符不代表通常意义上的小数点，只是用来区分数字序列。例如字符串2.5并不代表二点五，只是代表版本是第一级版本号是2，第二级版本号是5.\n",
    "'''\n",
    "x,y = map(lambda x:list(map(int, x.split('.'))), input().split())\n",
    "if x > y: print(1)\n",
    "elif x < y: print(-1)\n",
    "else: print(0)"
   ]
  },
  {
   "cell_type": "code",
   "execution_count": 16,
   "metadata": {},
   "outputs": [
    {
     "name": "stdout",
     "output_type": "stream",
     "text": [
      "3\n",
      "5,9,6\n",
      "2,7,7\n",
      "2,8,4\n",
      "[[5, 14, 20], [2, 7, 7], [2, 8, 4]]\n",
      "[[5, 14, 20], [7, 14, 21], [2, 8, 4]]\n",
      "[[5, 14, 20], [7, 14, 21], [9, 17, 21]]\n",
      "21\n"
     ]
    }
   ],
   "source": [
    "'''7 动态规划\n",
    "猛兽侠中精灵鼠在利剑飞船的追逐下逃到一个n*n的建筑群中，精灵鼠从（0,0）的位置进入建筑群，建筑群的出口位置为（n-1,n-1），建筑群的每个位置都有阻碍，每个位置上都会相当于给了精灵鼠一个固定值减速，因为精灵鼠正在逃命所以不能回头只能向前或者向下逃跑，现在问精灵鼠最少在减速多少的情况下逃出迷宫？\n",
    "第一行迷宫的大小: n >=2 & n <= 10000；\n",
    "第2到n+1行，每行输入为以','分割的该位置的减速,减速f >=1 & f < 10。\n",
    "精灵鼠从入口到出口的最少减少速度？\n",
    "'''\n",
    "n = int(input())\n",
    "r = [list(map(int, input().split(','))) for i in range(n)]\n",
    "\n",
    "for i in range(n):\n",
    "    for j in range(n):\n",
    "        if i==0 and j>=1: r[i][j]+=r[i][j-1]\n",
    "        if j==0 and i>=1: r[i][j]+=r[i-1][j]\n",
    "        if i>=1 and j>=1: r[i][j]+=min(r[i-1][j],r[i][j-1])\n",
    "print(r[n-1][n-1])"
   ]
  },
  {
   "cell_type": "code",
   "execution_count": 44,
   "metadata": {},
   "outputs": [
    {
     "name": "stdout",
     "output_type": "stream",
     "text": [
      "3 3\n",
      "1 2 3\n",
      "4 5 6\n",
      "7 8 9\n",
      "1,2,3,6,9,8,7,4,5\n",
      "\n"
     ]
    }
   ],
   "source": [
    "'''8\n",
    "给定一个数字矩阵，请设计一个算法从左上角开始顺时针打印矩阵元素\n",
    "输入第一行是两个数字，分别代表行数M和列数N；接下来是M行，每行N个数字，表示这个矩阵的所有元素；当读到M=-1，N=-1时，输入终止。\n",
    "请按逗号分割顺时针打印矩阵元素（注意最后一个元素末尾不要有逗号！例如输出“1，2，3”，而不是“1，2，\n",
    "3，”），每个矩阵输出完成后记得换行\n",
    "'''\n",
    "while 1:\n",
    "    m,n = map(int,input().split())\n",
    "    if m == -1: break\n",
    "    p = []\n",
    "    o = [input().split() for _ in range(m)]\n",
    "    while 1:\n",
    "        try:\n",
    "            p.extend(o.pop(0))\n",
    "            for i in range(len(o)-1):\n",
    "                p.append(o[i].pop())\n",
    "            p.extend(o.pop(-1)[::-1])\n",
    "            for i in range(-len(o)+1,0):\n",
    "                p.append(o[-i].pop(0))\n",
    "        except: break\n",
    "    print(','.join(p))"
   ]
  },
  {
   "cell_type": "code",
   "execution_count": 109,
   "metadata": {},
   "outputs": [
    {
     "name": "stdout",
     "output_type": "stream",
     "text": [
      "顺时针： [[7, 4, 1], [8, 5, 2], [9, 6, 3]]\n",
      "逆时针： [[3, 6, 9], [2, 5, 8], [1, 4, 7]]\n",
      "左右翻： [[3, 2, 1], [6, 5, 4], [9, 8, 7]]\n",
      "上下翻： [[7, 8, 9], [4, 5, 6], [1, 2, 3]]\n"
     ]
    }
   ],
   "source": [
    "o = [[1,2,3],[4,5,6],[7,8,9]]\n",
    "# 列表顺时针旋转：\n",
    "print(\"顺时针：\",list(map(list,zip(*o[::-1]))))\n",
    "# 列表逆时针旋转：\n",
    "print(\"逆时针：\",list(map(list,zip(*o)))[::-1])\n",
    "# 列表左右翻转：\n",
    "print(\"左右翻：\",[i[::-1] for i in o])\n",
    "# 列表上下翻转：\n",
    "print(\"上下翻：\",o[::-1])"
   ]
  },
  {
   "cell_type": "code",
   "execution_count": null,
   "metadata": {},
   "outputs": [],
   "source": []
  }
 ],
 "metadata": {
  "kernelspec": {
   "display_name": "Python 3",
   "language": "python",
   "name": "python3"
  },
  "language_info": {
   "codemirror_mode": {
    "name": "ipython",
    "version": 3
   },
   "file_extension": ".py",
   "mimetype": "text/x-python",
   "name": "python",
   "nbconvert_exporter": "python",
   "pygments_lexer": "ipython3",
   "version": "3.7.4"
  },
  "toc": {
   "base_numbering": 1,
   "nav_menu": {},
   "number_sections": true,
   "sideBar": true,
   "skip_h1_title": false,
   "title_cell": "Table of Contents",
   "title_sidebar": "Contents",
   "toc_cell": false,
   "toc_position": {},
   "toc_section_display": true,
   "toc_window_display": false
  },
  "varInspector": {
   "cols": {
    "lenName": 16,
    "lenType": 16,
    "lenVar": 40
   },
   "kernels_config": {
    "python": {
     "delete_cmd_postfix": "",
     "delete_cmd_prefix": "del ",
     "library": "var_list.py",
     "varRefreshCmd": "print(var_dic_list())"
    },
    "r": {
     "delete_cmd_postfix": ") ",
     "delete_cmd_prefix": "rm(",
     "library": "var_list.r",
     "varRefreshCmd": "cat(var_dic_list()) "
    }
   },
   "types_to_exclude": [
    "module",
    "function",
    "builtin_function_or_method",
    "instance",
    "_Feature"
   ],
   "window_display": false
  }
 },
 "nbformat": 4,
 "nbformat_minor": 2
}
