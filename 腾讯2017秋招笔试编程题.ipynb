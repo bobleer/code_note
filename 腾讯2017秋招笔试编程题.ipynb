{
 "cells": [
  {
   "cell_type": "code",
   "execution_count": null,
   "metadata": {},
   "outputs": [],
   "source": [
    "'''1\n",
    "假定一种编码的编码范围是a ~ y的25个字母，从1位到4位的编码，如果我们把该编码按字典序排序，\n",
    "形成一个数组如下： a, aa, aaa, aaaa, aaab, aaac, … …, b, ba, baa, baaa, baab, baac … …, yyyw, yyyx, yyyy 其中a的Index为0，aa的Index为1，aaa的Index为2，以此类推。 编写一个函数，输入是任意一个编码，输出这个编码对应的Index.\n",
    "\n",
    "输入描述:\n",
    "输入一个待编码的字符串,字符串长度小于等于100.\n",
    "\n",
    "输出描述:\n",
    "输出这个编码的index\n",
    "\n",
    "输入例子1:\n",
    "baca\n",
    "\n",
    "输出例子1:\n",
    "16331\n",
    "'''"
   ]
  },
  {
   "cell_type": "code",
   "execution_count": 26,
   "metadata": {},
   "outputs": [
    {
     "name": "stdout",
     "output_type": "stream",
     "text": [
      "baca\n",
      "16331\n"
     ]
    }
   ],
   "source": [
    "az = \"abcdefghijklmnopqrstuvwxy\"\n",
    "out4=[i+j+k+l for i in az for j in az for k in az for l in az]\n",
    "out3=[i+j+k for i in az for j in az for k in az]\n",
    "out2=[i+j for i in az for j in az]\n",
    "out1=[i for i in az]\n",
    "out=sorted(out1+out2+out3+out4)\n",
    "print(out.index(input()))"
   ]
  },
  {
   "cell_type": "code",
   "execution_count": 16,
   "metadata": {},
   "outputs": [],
   "source": [
    "'''2\n",
    "游戏里面有很多各式各样的任务，其中有一种任务玩家只能做一次，这类任务一共有1024个，任务ID范围[1,1024]。\n",
    "请用32个unsigned int类型来记录着1024个任务是否已经完成。初始状态都是未完成。 \n",
    "输入两个参数，都是任务ID，需要设置第一个ID的任务为已经完成；并检查第二个ID的任务是否已经完成。 输出一个参数，如果第二个ID的任务已经完成输出1，如果未完成输出0。如果第一或第二个ID不在[1,1024]范围，则输出-1。\n",
    "\n",
    "输入描述:\n",
    "输入包括一行,两个整数表示人物ID.\n",
    "\n",
    "\n",
    "输出描述:\n",
    "输出是否完成\n",
    "\n",
    "示例1\n",
    "输入\n",
    "1024 1024\n",
    "\n",
    "输出\n",
    "1\n",
    "'''"
   ]
  },
  {
   "cell_type": "code",
   "execution_count": 31,
   "metadata": {},
   "outputs": [
    {
     "name": "stdout",
     "output_type": "stream",
     "text": [
      "1024 1024\n",
      "1\n"
     ]
    }
   ],
   "source": [
    "a,b = map(int, input().split())\n",
    "if a in range(1,1025) and b in range(1,1025):\n",
    "    if a==b: print(1)\n",
    "    else: print(0)\n",
    "else: print(-1)"
   ]
  },
  {
   "cell_type": "code",
   "execution_count": null,
   "metadata": {},
   "outputs": [],
   "source": [
    "'''3\n",
    "给定一个正整数，编写程序计算有多少对质数的和等于输入的这个正整数，并输出结果。输入值小于1000。\n",
    "如，输入为10, 程序应该输出结果为2。（共有两对质数的和为10,分别为(5,5),(3,7)）\n",
    "\n",
    "输入描述:\n",
    "输入包括一个整数n,(3 ≤ n < 1000)\n",
    "\n",
    "\n",
    "输出描述:\n",
    "输出对数\n",
    "示例1\n",
    "输入\n",
    "10\n",
    "输出\n",
    "2\n",
    "'''"
   ]
  },
  {
   "cell_type": "code",
   "execution_count": 33,
   "metadata": {},
   "outputs": [
    {
     "name": "stdout",
     "output_type": "stream",
     "text": [
      "28\n",
      "2\n"
     ]
    }
   ],
   "source": [
    "k=int(input())\n",
    "num=[]\n",
    "i=2\n",
    "for i in range(2,k):\n",
    "   j=2\n",
    "   for j in range(2,i):\n",
    "      if(i%j==0):\n",
    "         break\n",
    "   else:\n",
    "      num.append(i)\n",
    "eq = 0\n",
    "n = 0\n",
    "for i in num:\n",
    "    for j in num:\n",
    "        if i+j == k:\n",
    "            if i == j:\n",
    "                eq = 1\n",
    "            else:\n",
    "                n += 1\n",
    "print(n // 2 + eq)"
   ]
  },
  {
   "cell_type": "code",
   "execution_count": null,
   "metadata": {},
   "outputs": [],
   "source": [
    "'''\n",
    "链接：https://www.nowcoder.com/questionTerminal/46bd43f043c54013a67816d0a2946506\n",
    "来源：牛客网\n",
    "\n",
    "geohash编码：geohash常用于将二维的经纬度转换为字符串，分为两步：第一步是经纬度的二进制编码，第二步是base32转码。\n",
    "此题考察纬度的二进制编码：算法对纬度[-90, 90]通过二分法进行无限逼近（取决于所需精度，本题精度为6）。注意，本题进行二分法逼近过程中只采用向下取整来进行二分，针对二分中间值属于右区间。算法举例如下： 针对纬度为80进行二进制编码过程：\n",
    "1) 区间[-90, 90]进行二分为[-90, 0),[0, 90]，成为左右区间，可以确定80为右区间，标记为1；\n",
    "2) 针对上一步的右区间[0, 90]进行二分为[0, 45),[45, 90]，可以确定80是右区间，标记为1；\n",
    "3) 针对[45, 90]进行二分为[45, 67),[67,90],可以确定80为右区间，标记为1；\n",
    "4) 针对[67,90]进行二分为[67, 78),[78,90]，可以确定80为右区间，标记为1；\n",
    "5) 针对[78, 90]进行二分为[78, 84),[84, 90]，可以确定80为左区间，标记为0；\n",
    "6) 针对[78, 84)进行二分为[78, 81), [81, 84)，可以确定80为左区间，标记为0；\n",
    "\n",
    "输入描述:\n",
    "输入包括一个整数n,(-90 ≤ n ≤ 90)\n",
    "\n",
    "\n",
    "输出描述:\n",
    "输出二进制编码\n",
    "示例1\n",
    "输入\n",
    "80\n",
    "输出\n",
    "111100\n",
    "'''"
   ]
  },
  {
   "cell_type": "code",
   "execution_count": null,
   "metadata": {},
   "outputs": [],
   "source": [
    "s = int(input())\n",
    "ans = ''\n",
    "start = -90\n",
    "end = 90\n",
    "for i in range(6):\n",
    "    mid = int((start+end)/2)\n",
    "    if s<mid:\n",
    "        ans+='0'\n",
    "        end = mid\n",
    "    elif s>=mid:\n",
    "        ans+='1'\n",
    "        start = mid\n",
    "print(ans)"
   ]
  },
  {
   "cell_type": "code",
   "execution_count": null,
   "metadata": {},
   "outputs": [],
   "source": []
  }
 ],
 "metadata": {
  "kernelspec": {
   "display_name": "Python 3",
   "language": "python",
   "name": "python3"
  },
  "language_info": {
   "codemirror_mode": {
    "name": "ipython",
    "version": 3
   },
   "file_extension": ".py",
   "mimetype": "text/x-python",
   "name": "python",
   "nbconvert_exporter": "python",
   "pygments_lexer": "ipython3",
   "version": "3.7.5"
  },
  "toc": {
   "base_numbering": 1,
   "nav_menu": {},
   "number_sections": true,
   "sideBar": true,
   "skip_h1_title": false,
   "title_cell": "Table of Contents",
   "title_sidebar": "Contents",
   "toc_cell": false,
   "toc_position": {},
   "toc_section_display": true,
   "toc_window_display": false
  },
  "varInspector": {
   "cols": {
    "lenName": 16,
    "lenType": 16,
    "lenVar": 40
   },
   "kernels_config": {
    "python": {
     "delete_cmd_postfix": "",
     "delete_cmd_prefix": "del ",
     "library": "var_list.py",
     "varRefreshCmd": "print(var_dic_list())"
    },
    "r": {
     "delete_cmd_postfix": ") ",
     "delete_cmd_prefix": "rm(",
     "library": "var_list.r",
     "varRefreshCmd": "cat(var_dic_list()) "
    }
   },
   "types_to_exclude": [
    "module",
    "function",
    "builtin_function_or_method",
    "instance",
    "_Feature"
   ],
   "window_display": false
  }
 },
 "nbformat": 4,
 "nbformat_minor": 2
}
